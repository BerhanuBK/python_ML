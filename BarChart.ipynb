{
 "cells": [
  {
   "cell_type": "code",
   "execution_count": 108,
   "id": "25ac4cac",
   "metadata": {},
   "outputs": [],
   "source": [
    "import matplotlib as mpl\n",
    "import matplotlib.pyplot as pl"
   ]
  },
  {
   "cell_type": "code",
   "execution_count": 109,
   "id": "10e1aa1d",
   "metadata": {},
   "outputs": [],
   "source": [
    "import numpy as np\n",
    "import pandas as pd"
   ]
  },
  {
   "cell_type": "code",
   "execution_count": 110,
   "id": "3237b49b",
   "metadata": {},
   "outputs": [],
   "source": [
    "labels = [\"1\",\"2\",\"3\",\"4\",\"5\"]"
   ]
  },
  {
   "cell_type": "code",
   "execution_count": 111,
   "id": "da3c67c5",
   "metadata": {},
   "outputs": [],
   "source": [
    "boyscores = [32, 67, 90, 100, 92]"
   ]
  },
  {
   "cell_type": "code",
   "execution_count": 112,
   "id": "f2605ff5",
   "metadata": {},
   "outputs": [],
   "source": [
    "girlscores = [40, 74, 90, 92, 100]"
   ]
  },
  {
   "cell_type": "code",
   "execution_count": 113,
   "id": "7d000fb5",
   "metadata": {},
   "outputs": [
    {
     "data": {
      "text/plain": [
       "<Figure size 720x360 with 0 Axes>"
      ]
     },
     "execution_count": 113,
     "metadata": {},
     "output_type": "execute_result"
    },
    {
     "data": {
      "text/plain": [
       "<Figure size 720x360 with 0 Axes>"
      ]
     },
     "metadata": {},
     "output_type": "display_data"
    }
   ],
   "source": [
    "pl.figure(figsize=(10,5))"
   ]
  },
  {
   "cell_type": "code",
   "execution_count": 114,
   "id": "e32dc378",
   "metadata": {},
   "outputs": [
    {
     "data": {
      "text/plain": [
       "Text(0.5, 1.0, 'Boys and girls scores by period')"
      ]
     },
     "execution_count": 114,
     "metadata": {},
     "output_type": "execute_result"
    },
    {
     "data": {
      "image/png": "[encoded data removed]",
      "text/plain": [
       "<Figure size 432x288 with 1 Axes>"
      ]
     },
     "metadata": {
      "needs_background": "light"
     },
     "output_type": "display_data"
    }
   ],
   "source": [
    "pl.title('Boys and girls scores by period')"
   ]
  },
  {
   "cell_type": "code",
   "execution_count": 115,
   "id": "ffe8d640",
   "metadata": {},
   "outputs": [
    {
     "data": {
      "text/plain": [
       "Text(0.5, 0, 'Periods')"
      ]
     },
     "execution_count": 115,
     "metadata": {},
     "output_type": "execute_result"
    },
    {
     "data": {
      "image/png": "[encoded data removed]",
      "text/plain": [
       "<Figure size 432x288 with 1 Axes>"
      ]
     },
     "metadata": {
      "needs_background": "light"
     },
     "output_type": "display_data"
    }
   ],
   "source": [
    "pl.xlabel('Periods')"
   ]
  },
  {
   "cell_type": "code",
   "execution_count": 116,
   "id": "f1dc9663",
   "metadata": {},
   "outputs": [
    {
     "data": {
      "text/plain": [
       "Text(0, 0.5, 'Scores')"
      ]
     },
     "execution_count": 116,
     "metadata": {},
     "output_type": "execute_result"
    },
    {
     "data": {
      "image/png": "[encoded data removed]",
      "text/plain": [
       "<Figure size 432x288 with 1 Axes>"
      ]
     },
     "metadata": {
      "needs_background": "light"
     },
     "output_type": "display_data"
    }
   ],
   "source": [
    "pl.ylabel('Scores')"
   ]
  },
  {
   "cell_type": "code",
   "execution_count": 117,
   "id": "58946021",
   "metadata": {},
   "outputs": [],
   "source": [
    "y_pos = np.arange(len(labels))"
   ]
  },
  {
   "cell_type": "code",
   "execution_count": 118,
   "id": "f33a96e6",
   "metadata": {},
   "outputs": [
    {
     "data": {
      "text/plain": [
       "([<matplotlib.axis.XTick at 0x1f6bf357f40>,\n",
       "  <matplotlib.axis.XTick at 0x1f6bf357f10>,\n",
       "  <matplotlib.axis.XTick at 0x1f6bf3575e0>,\n",
       "  <matplotlib.axis.XTick at 0x1f6bf3889a0>,\n",
       "  <matplotlib.axis.XTick at 0x1f6bf38e130>],\n",
       " [Text(0.3, 0, '1'),\n",
       "  Text(1.3, 0, '2'),\n",
       "  Text(2.3, 0, '3'),\n",
       "  Text(3.3, 0, '4'),\n",
       "  Text(4.3, 0, '5')])"
      ]
     },
     "execution_count": 118,
     "metadata": {},
     "output_type": "execute_result"
    },
    {
     "data": {
      "image/png": "[encoded data removed]",
      "text/plain": [
       "<Figure size 432x288 with 1 Axes>"
      ]
     },
     "metadata": {
      "needs_background": "light"
     },
     "output_type": "display_data"
    }
   ],
   "source": [
    "pl.xticks(y_pos+0.3, labels)"
   ]
  },
  {
   "cell_type": "code",
   "execution_count": 119,
   "id": "c8c423b7",
   "metadata": {},
   "outputs": [
    {
     "data": {
      "text/plain": [
       "<matplotlib.legend.Legend at 0x1f6bf396190>"
      ]
     },
     "execution_count": 119,
     "metadata": {},
     "output_type": "execute_result"
    },
    {
     "data": {
      "image/png": "[encoded data removed]",
      "text/plain": [
       "<Figure size 432x288 with 1 Axes>"
      ]
     },
     "metadata": {
      "needs_background": "light"
     },
     "output_type": "display_data"
    }
   ],
   "source": [
    "pl.bar(y_pos, boyscores, width=0.3, label='boys', color='green', align='center')\n",
    "pl.bar(y_pos+0.3, girlscores, width=0.3, label='girls', color='blue', align='center')\n",
    "pl.legend()"
   ]
  },
  {
   "cell_type": "code",
   "execution_count": 107,
   "id": "89bd7c90",
   "metadata": {},
   "outputs": [],
   "source": [
    "pl.show()"
   ]
  },
  {
   "cell_type": "code",
   "execution_count": null,
   "id": "a85a2ee5",
   "metadata": {},
   "outputs": [],
   "source": [
    "g"
   ]
  }
 ],
 "metadata": {
  "kernelspec": {
   "display_name": "Python 3 (ipykernel)",
   "language": "python",
   "name": "python3"
  },
  "language_info": {
   "codemirror_mode": {
    "name": "ipython",
    "version": 3
   },
   "file_extension": ".py",
   "mimetype": "text/x-python",
   "name": "python",
   "nbconvert_exporter": "python",
   "pygments_lexer": "ipython3",
   "version": "3.9.7"
  }
 },
 "nbformat": 4,
 "nbformat_minor": 5
}
